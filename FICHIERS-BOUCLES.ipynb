{
 "cells": [
  {
   "cell_type": "markdown",
   "id": "cba29be9-f53f-4288-be55-1c8558fc63e9",
   "metadata": {},
   "source": [
    "# Ouvrir et Fichiers"
   ]
  },
  {
   "cell_type": "markdown",
   "id": "72d30903-866a-4ac2-a766-5217f5c2467e",
   "metadata": {},
   "source": [
    "## Ouvrir et lire un fichier"
   ]
  },
  {
   "cell_type": "markdown",
   "id": "24980694-1b44-4079-9071-990f6a36d9cf",
   "metadata": {},
   "source": [
    "### Ouverture un fichier"
   ]
  },
  {
   "cell_type": "code",
   "execution_count": 2,
   "id": "9830e7c2-4801-42c9-aab1-48c56d856d43",
   "metadata": {},
   "outputs": [
    {
     "data": {
      "text/plain": [
       "<_io.TextIOWrapper name='python.txt' mode='r' encoding='UTF-8'>"
      ]
     },
     "execution_count": 2,
     "metadata": {},
     "output_type": "execute_result"
    }
   ],
   "source": [
    "# Open()\n",
    "\n",
    "open(\"python.txt\", \"r\")"
   ]
  },
  {
   "cell_type": "code",
   "execution_count": 3,
   "id": "48f33730-5983-4144-ab1c-ade60e2170e8",
   "metadata": {},
   "outputs": [
    {
     "name": "stdout",
     "output_type": "stream",
     "text": [
      "<_io.TextIOWrapper name='python.txt' mode='r' encoding='UTF-8'>\n"
     ]
    }
   ],
   "source": [
    "f = open(\"python.txt\", \"r\")\n",
    "print(f)"
   ]
  },
  {
   "cell_type": "markdown",
   "id": "27f6cf49-892a-4f51-ae74-683490b404c1",
   "metadata": {},
   "source": [
    "### Lecture d'un fichier"
   ]
  },
  {
   "cell_type": "code",
   "execution_count": 4,
   "id": "6033a04a-c031-4463-a3e1-f75af858ca2f",
   "metadata": {},
   "outputs": [
    {
     "name": "stdout",
     "output_type": "stream",
     "text": [
      "Je lis mon premier fichier !!!\n"
     ]
    }
   ],
   "source": [
    "# Read()\n",
    "\n",
    "g = f.read()\n",
    "print(g)"
   ]
  },
  {
   "cell_type": "markdown",
   "id": "5a040e18-dcc9-4418-aaf5-2a7c04932f8e",
   "metadata": {},
   "source": [
    "### Training"
   ]
  },
  {
   "cell_type": "code",
   "execution_count": 5,
   "id": "10e4be6a-7647-4eed-af34-9d636e008945",
   "metadata": {},
   "outputs": [
    {
     "name": "stdout",
     "output_type": "stream",
     "text": [
      "Ain,643309\n",
      "Aisne,554040\n",
      "Allier,353262\n",
      "Alpes-de-Haute-Provence,166298\n",
      "Alpes-Maritimes,1098785\n",
      "Ardèche,332051\n",
      "Ardennes,287775\n",
      "Ariège,158076\n",
      "Aube,316098\n",
      "Aude,375065\n",
      "Aveyron,289901\n",
      "Bas-Rhin,1131812\n",
      "Bouches-du-Rhône,2035475\n",
      "Calvados,708407\n",
      "Cantal,152400\n",
      "Charente,366787\n",
      "Charente-Maritime,656046\n",
      "Cher,318590\n",
      "Corrèze,249684\n",
      "Corse-du-Sud,154100\n",
      "Côte-d'Or,545001\n",
      "Côtes-d'Armor,617413\n",
      "Creuse,124948\n",
      "Deux-Sèvres,384655\n",
      "Dordogne,428651\n",
      "Doubs,549155\n",
      "Drôme,514104\n",
      "Essonne,1286908\n",
      "Eure,616076\n",
      "Eure-et-Loir,445083\n",
      "Finistère,935393\n",
      "Gard,752382\n",
      "Gers,197988\n",
      "Gironde,1556663\n",
      "Guadeloupe,406706\n",
      "Guyane,254845\n",
      "Haute-Corse,175499\n",
      "Haute-Garonne,1344579\n",
      "Haute-Loire,234078\n",
      "Haute-Marne,186698\n",
      "Hautes-Alpes,145213\n",
      "Haute-Saône,246022\n",
      "Haute-Savoie,806447\n",
      "Hautes-Pyrénées,236577\n",
      "Haute-Vienne,384708\n",
      "Haut-Rhin,775941\n",
      "Hauts-de-Seine,1617484\n",
      "Hérault,1127333\n",
      "Ille-et-Vilaine,1060051\n",
      "Indre,232802\n",
      "Indre-et-Loire,619004\n",
      "Isère,1271938\n",
      "Jura,270826\n",
      "La Réunion,541487\n",
      "Landes,414090\n",
      "Loire,774262\n",
      "Loire-Atlantique,1382766\n",
      "Loiret,688098\n",
      "Loir-et-Cher,344121\n",
      "Lot,180016\n",
      "Lot-et-Garonne,343198\n",
      "Lozère,80423\n",
      "Maine-et-Loire,829156\n",
      "Manche,518322\n",
      "Marne,584297\n",
      "Martinique,390252\n",
      "Mayenne,317716\n",
      "Meurthe-et-Moselle,746687\n",
      "Meuse,197763\n",
      "Morbihan,764338\n",
      "Moselle,1065894\n",
      "Nièvre,221048\n",
      "Nord,2640622\n",
      "Oise,838646\n",
      "Orne,297109\n",
      "Paris,2243739\n",
      "Pas-de-Calais,1497668\n",
      "Puy-de-Dôme,661248\n",
      "Pyrénées-Atlantiques,688451\n",
      "Pyrénées-Orientales,474842\n",
      "Rhône,1833002\n",
      "Saône-et-Loire,574229\n",
      "Sarthe,583961\n",
      "Savoie,440777\n",
      "Seine-et-Marne,1400477\n",
      "Seine-Maritime,1284107\n",
      "Seine-Saint-Denis,1582139\n",
      "Somme,583641\n",
      "Tarn,396341\n",
      "Tarn-et-Garonne,258696\n",
      "Territoire de Belfort,147647\n",
      "Val-de-Marne,1377511\n",
      "Val-d'Oise,1221946\n",
      "Var,1055745\n",
      "Vaucluse,566592\n",
      "Vendée,681469\n",
      "Vienne,444347\n",
      "Vosges,386978\n",
      "Yonne,352433\n",
      "Yvelines,1449398\n"
     ]
    }
   ],
   "source": [
    "with open(\"departements_fr.csv\", \"r\", encoding=\"latin1\") as f:\n",
    "    data = f.read()\n",
    "    print(data)"
   ]
  },
  {
   "cell_type": "markdown",
   "id": "e2186f61-3dfb-4410-bdef-3288772425f5",
   "metadata": {},
   "source": [
    "# Séparation des éléments "
   ]
  },
  {
   "cell_type": "markdown",
   "id": "8ca205f1-b6a7-4a70-a519-cd5150560237",
   "metadata": {},
   "source": [
    "## Création d'une liste à partie d'une chaines de caractères"
   ]
  },
  {
   "cell_type": "code",
   "execution_count": 6,
   "id": "97056784-904d-4374-a583-c83b38ce417c",
   "metadata": {},
   "outputs": [
    {
     "data": {
      "text/plain": [
       "str"
      ]
     },
     "execution_count": 6,
     "metadata": {},
     "output_type": "execute_result"
    }
   ],
   "source": [
    "type(data)"
   ]
  },
  {
   "cell_type": "code",
   "execution_count": 7,
   "id": "db9b3972-9ade-4849-83df-8df08e00960c",
   "metadata": {},
   "outputs": [
    {
     "name": "stdout",
     "output_type": "stream",
     "text": [
      "['Tom', 'Seb', 'Bob']\n"
     ]
    }
   ],
   "source": [
    "# split()\n",
    "\n",
    "name = \"Tom,Seb,Bob\"\n",
    "liste_split = name.split(',')\n",
    "print(liste_split)"
   ]
  },
  {
   "cell_type": "markdown",
   "id": "11694f55-f459-4913-9d2e-03acc318b617",
   "metadata": {},
   "source": [
    "### Training"
   ]
  },
  {
   "cell_type": "code",
   "execution_count": 12,
   "id": "f1e6f11c-549b-4a7e-959f-d27878d2910e",
   "metadata": {},
   "outputs": [
    {
     "name": "stdout",
     "output_type": "stream",
     "text": [
      "['Ain,643309', 'Aisne,554040', 'Allier,353262', 'Alpes-de-Haute-Provence,166298', 'Alpes-Maritimes,1098785']\n"
     ]
    }
   ],
   "source": [
    "rows = data.split('\\n')\n",
    "print(rows[0:5])"
   ]
  },
  {
   "cell_type": "code",
   "execution_count": null,
   "id": "40dc140d-2e49-431b-bb62-8b95370ffdeb",
   "metadata": {},
   "outputs": [],
   "source": []
  }
 ],
 "metadata": {
  "kernelspec": {
   "display_name": "Python 3 (ipykernel)",
   "language": "python",
   "name": "python3"
  },
  "language_info": {
   "codemirror_mode": {
    "name": "ipython",
    "version": 3
   },
   "file_extension": ".py",
   "mimetype": "text/x-python",
   "name": "python",
   "nbconvert_exporter": "python",
   "pygments_lexer": "ipython3",
   "version": "3.13.5"
  }
 },
 "nbformat": 4,
 "nbformat_minor": 5
}
